{
 "cells": [
  {
   "cell_type": "markdown",
   "metadata": {},
   "source": [
    "<div> \n",
    "    \n",
    "<h1 align=\"center\"> INF1007 - Hiver 2025 </h1>\n",
    "<h2 align=\"center\"> TP3 - Analyse de données sur les pingouins avec des librairies scientifiques</h2>\n",
    "<br>\n",
    "    \n",
    "</div> "
   ]
  },
  {
   "cell_type": "markdown",
   "metadata": {},
   "source": [
    "<b>\n",
    "Travail réalisé par : <br>\n",
    "<br></b>\n",
    "Remplacer par votre nom <br>\n",
    "Remplacer par votre nom <br>\n",
    "<br>\n",
    "<b>\n",
    "Numéro de groupe de laboratoire :\n",
    "<br><br>\n",
    "</b>\n",
    "Remplacer par votre numéro de groupe (LXX-XX)\n",
    "<br>\n"
   ]
  },
  {
   "cell_type": "markdown",
   "metadata": {},
   "source": [
    "<div class=\"alert alert-danger\" style=\"font-size:16px;\">\n",
    "<b>Avant de commencer le TP, assurez-vous d'avoir installé les librairies suivantes :</b>\n",
    "<br>\n",
    "\n",
    "- <a href=\"https://pandas.pydata.org/docs/getting_started/index.html\" target=\"_blank\">Pandas</a><br>\n",
    "- <a href=\"https://matplotlib.org/stable/\" target=\"_blank\">Matplotlib</a><br>\n",
    "- <a href=\"https://seaborn.pydata.org/index.html\" target=\"_blank\">Seaborn</a><br>\n",
    "- <a href=\"https://plotly.com/python/\" target=\"_blank\">Plotly</a>\n",
    "<br></b>\n",
    "\n",
    "Vous pouvez les installer en exécutant la cellules suivante. \n",
    "</div>\n"
   ]
  },
  {
   "cell_type": "code",
   "execution_count": null,
   "metadata": {},
   "outputs": [],
   "source": [
    "# Installations des librairies nécessaires pour le TP. \n",
    "# Vous avez seulement besoin d'exécuter cette cellule une seule fois, lors de la première utilisation du Jupyter Notebook.\n",
    "# Vous pouvez ensuite mettre les installations en commentaire pour éviter de les réexécuter à chaque fois que vous exécutez le Notebook au complet (avec \"Run All\").\n",
    "\n",
    "%pip install pandas\n",
    "%pip install matplotlib\n",
    "%pip install seaborn\n",
    "%pip install plotly\n",
    "%pip install numpy"
   ]
  },
  {
   "cell_type": "markdown",
   "metadata": {},
   "source": [
    "<h1><font color='lightblue'> Partie 1 - Chargement d'une base de données avec Pandas </font></h1>\n"
   ]
  },
  {
   "cell_type": "markdown",
   "metadata": {},
   "source": [
    "<div class=\"alert alert-block alert-info\" style=\"font-size:16px;\">\n",
    "\n",
    "Pour cette première partie du TP, nous utiliserons la librairie Pandas. Pour importer la librairie dans le Jupyter Notebook, vous pouvez exécuter la cellule suivante. \n"
   ]
  },
  {
   "cell_type": "code",
   "execution_count": null,
   "metadata": {},
   "outputs": [],
   "source": [
    "import pandas as pd\n",
    "import numpy as np"
   ]
  },
  {
   "cell_type": "markdown",
   "metadata": {},
   "source": [
    "<div class=\"alert alert-block alert-info\" style=\"font-size:16px;\">\n",
    "<b>\n",
    "1.1 Dans ce premier exercice, vous devez d'abord compléter la fonction \"charger_donnees\", qui permet de charger le contenu d'un fichier .csv en un DataFrame Pandas. \n",
    "</b>\n",
    "<br><br> \n",
    "Un DataFrame Pandas est une structure de données tabulaire à deux dimensions, similaire à une feuille de calcul Excel. Il est composé de lignes et de colonnes, où :\n",
    "<br><br> \n",
    "\n",
    "- Chaque colonne représente une variable (ou un attribut) et a un nom.\n",
    "<br>\n",
    "\n",
    "- Chaque ligne représente une entrée (ou un enregistrement).\n",
    "<br>\n",
    "\n",
    "- Les indices (index) permettent d’identifier les lignes.\n",
    "<br>\n",
    "<br>\n",
    "*Pour compléter la fonction, vous devez utiliser la fonction \"read_csv\" de la librairie pandas. \n",
    "</div>"
   ]
  },
  {
   "cell_type": "code",
   "execution_count": null,
   "metadata": {},
   "outputs": [],
   "source": [
    "# TODO Compléter la fonction charger_donnees\n",
    "def charger_donnees(file_path):\n",
    "    \"\"\"\n",
    "    Lire le fichier csv passé en parametre et retourner un DataFrame contenant les données du fichier csv.\n",
    "    @param file_path: le chemin vers le fichier csv (str)\n",
    "    @return: DataFrame contenant les données du fichier csv. (pandas dataframe)\n",
    "    \"\"\"\n",
    "    # TODO Écrire votre code ici --> remplacer None\n",
    "    \n",
    "    df = None\n",
    "\n",
    "    # Fin du code\n",
    "    return df"
   ]
  },
  {
   "cell_type": "markdown",
   "metadata": {},
   "source": [
    "<div class=\"alert alert-block alert-info\" style=\"font-size:16px;\">\n",
    "<b>\n",
    "1.2 Ensuite, en utilisant la fonction charger_donnees que vous venez de compléter, vous devez maintenant charger le contenu du fichier penguins.csv dans un DataFrame pandas </b> (une ligne de code seulement)\n"
   ]
  },
  {
   "cell_type": "code",
   "execution_count": null,
   "metadata": {},
   "outputs": [],
   "source": [
    "# TODO Charger le fichier csv de données en un DataFrame avec la librairie pandas (en utilisant la fonction \"charger_donnees\") --> remplacer None\n",
    "df_penguins = None"
   ]
  },
  {
   "cell_type": "markdown",
   "metadata": {},
   "source": [
    "<div class=\"alert alert-block alert-info\" style=\"font-size:16px;\">\n",
    "<b>\n",
    "1.3 Ensuite, en utilisant la fonction head() de Pandas, affichez les 15 premières lignes du DataFrame que vous venez de créer dans la cellule précédente </b> (une ligne de code seulement)\n",
    "<br>"
   ]
  },
  {
   "cell_type": "code",
   "execution_count": null,
   "metadata": {},
   "outputs": [],
   "source": [
    "# TODO Afficher les 15 premières lignes du DataFrame"
   ]
  },
  {
   "cell_type": "markdown",
   "metadata": {},
   "source": [
    "<div class=\"alert alert-block alert-info\" style=\"font-size:16px;\">\n",
    "<b>\n",
    "1.4. Maintenant, vous devez compléter la fonction supprimer_lignes_donnees_manquantes, qui permettra de supprimer toutes les rangées d'un DataFrame qui contiennent au moins une valeur manquante (\"NaN\").  </b> \n",
    "<br>"
   ]
  },
  {
   "cell_type": "code",
   "execution_count": null,
   "metadata": {},
   "outputs": [],
   "source": [
    "# TODO Créer une fonction pour supprimer les lignes avec des valeurs manquantes\n",
    "def supprimer_lignes_donnees_manquantes(dataframe):\n",
    "    \"\"\"\n",
    "    Supprime toutes les lignes contenant au moins une valeur manquante dans un DataFrame (au moins un \"NaN\").\n",
    "\n",
    "    @param dataframe : Le DataFrame à nettoyer.\n",
    "    @return : Le DataFrame sans colonnes ayant des valeurs manquantes.\n",
    "    \"\"\"\n",
    "    # TODO Écrire votre code ici\n",
    "\n",
    "    return dataframe"
   ]
  },
  {
   "cell_type": "markdown",
   "metadata": {},
   "source": [
    "<div class=\"alert alert-block alert-info\" style=\"font-size:16px;\">\n",
    "<b>\n",
    "1.5 Utilisez la fonction supprimer_colonnes_donnees_manquantes que vous avez complété pour supprimer les lignes qui contiennent des données \"NaN\" dans votre DataFrame de pingouins </b> (une ligne de code seulement)\n",
    "<br>"
   ]
  },
  {
   "cell_type": "code",
   "execution_count": null,
   "metadata": {},
   "outputs": [],
   "source": [
    "# TODO Afficher les 15 premières lignes pour vérifier le chargement"
   ]
  },
  {
   "cell_type": "markdown",
   "metadata": {},
   "source": [
    "<div class=\"alert alert-block alert-info\" style=\"font-size:16px;\">\n",
    "<b>\n",
    "1.6 Vérifiez que les données manquantes sont enlevées en affichant à nouveau les 15 premières lignes du DataFrame. \n",
    "<br>"
   ]
  },
  {
   "cell_type": "code",
   "execution_count": null,
   "metadata": {},
   "outputs": [],
   "source": [
    "# TODO Afficher les 15 premières lignes du DataFrame"
   ]
  },
  {
   "cell_type": "markdown",
   "metadata": {},
   "source": [
    "<div class=\"alert alert-block alert-info\" style=\"font-size:16px;\">\n",
    "<b>\n",
    "1.7 Ici, vous devez compléter la fonction conversion_colonne. Cette fonction permettra de convertir les valeurs d'une colonne par un facteur de conversion (par exemple, convertir des grammes en kilogrammes, des mètres en kilomètres, etc.), ainsi que de modifier le nom de la colonne. La fonction doit également arrondir les valeurs de la colonne à 2 chiffres après la virgule. \n",
    "<br>\n"
   ]
  },
  {
   "cell_type": "code",
   "execution_count": null,
   "metadata": {},
   "outputs": [],
   "source": [
    "# TODO Créer une fonction pour convertir une colonne contenant des valeurs en grammes (g) en valeurs en kilogrammes (kg)\n",
    "def conversion_colonne(dataframe, colonne, facteur_conversion, nouveau_nom_colonne):\n",
    "    \"\"\"\n",
    "    Convertit les valeurs d'une colonne en grammes (g) en kilogrammes (kg). Modifie également le nom de la colonne pour refléter le changement.\n",
    "\n",
    "    @param dataframe : Le DataFrame avec la colonne à modifier.\n",
    "    @return : Le DataFrame avec la colonne modifiée.\n",
    "    \"\"\"\n",
    "\n",
    "    # TODO Écrire votre code ici\n",
    "\n",
    "    return dataframe"
   ]
  },
  {
   "cell_type": "markdown",
   "metadata": {},
   "source": [
    "<div class=\"alert alert-block alert-info\" style=\"font-size:16px;\">\n",
    "<b>\n",
    "1.8 Les données contenues dans la colonne \"body_mass_g\" sont présentement en grammes (g). Utilisez la fonction conversion_colonne pour convertir les données de cette colonne en kilogrammes (kg), et modifiez le nom de la colonne à \"body_mass_kg\" </b> (une seule ligne de code).\n",
    "<br>\n"
   ]
  },
  {
   "cell_type": "code",
   "execution_count": null,
   "metadata": {},
   "outputs": [],
   "source": [
    "# TODO Utiliser votre fonction \"conversion_colonne\" pour mettre à jour la masse --> remplacer None\n",
    "df_penguins = None"
   ]
  },
  {
   "cell_type": "markdown",
   "metadata": {},
   "source": [
    "<div class=\"alert alert-block alert-info\" style=\"font-size:16px;\">\n",
    "<b>\n",
    "1.9 Affichez à nouveau les 15 premières lignes de votre DataFrame pour vérifier les changements. \n",
    "<br>"
   ]
  },
  {
   "cell_type": "code",
   "execution_count": null,
   "metadata": {},
   "outputs": [],
   "source": [
    "# TODO Afficher les 15 premières lignes du DataFrame"
   ]
  },
  {
   "cell_type": "markdown",
   "metadata": {},
   "source": [
    "<div class=\"alert alert-block alert-info\" style=\"font-size:16px;\">\n",
    "<b>\n",
    "1.10 Affichez les statistiques du DataFrame. \n",
    "<br>"
   ]
  },
  {
   "cell_type": "code",
   "execution_count": null,
   "metadata": {},
   "outputs": [],
   "source": [
    "# TODO Afficher les statistiques du dataframe\n",
    "# Indice: il existe une commande pandas pour faire cette action."
   ]
  },
  {
   "cell_type": "markdown",
   "metadata": {},
   "source": [
    "<h1><font color='lightgreen'> Partie 2 - Affichage de graphiques avec les librairies Matplotlib et Seaborn </font></h1>"
   ]
  },
  {
   "cell_type": "markdown",
   "metadata": {},
   "source": [
    "<div class=\"alert alert-block alert-success\" style=\"font-size:16px;\"> <b> \n",
    "Dans cette deuxième partie du TP, nous utiliserons les librairies Matplotlib et Seaborn, deux librairies qui sont souvent utilisées pour tracer des graphiques avec Python. \n",
    "<br> <br>\n",
    "\n",
    "- Matplotlib est une librairie de base pour la création de graphiques statiques, interactifs et animés en Python. Elle offre une grande flexibilité pour personnaliser l’apparence des figures, les axes, les légendes, les couleurs, etc.<br><br>\n",
    "- Seaborn est une extension de Matplotlib qui simplifie la création de visualisations statistiques élégantes et informatives. Cette librairie s'intègre facilement à la structure des DataFrames de Pandas, ce qui la rend populaire pour les bases de données comme celle que nous avons pour les pingouins. \n",
    "<br> <br>\n",
    "\n",
    "Vous pouvez importer les librairies Matplotlib et Seaborn en exécutant la cellule suivante.</div>"
   ]
  },
  {
   "cell_type": "code",
   "execution_count": null,
   "metadata": {},
   "outputs": [],
   "source": [
    "import matplotlib.pyplot as plt \n",
    "import seaborn as sns"
   ]
  },
  {
   "cell_type": "markdown",
   "metadata": {},
   "source": [
    "<div class=\"alert alert-block alert-success\" style=\"font-size:16px;\"> <b> \n",
    "2.1 Dans la cellule ci-dessous, vous devez faire un graphique en barres (\"boxplot\") en utilisant la librairie Seaborn, puis ajouter des titres et une légende en utilisant la librairie Matplotlib. Vous pouvez également utiliser Matplotlib pour afficher le graphique.</b> \n",
    "<br> <br> \n",
    "Instructions pour ce graphique : \n",
    "<br> \n",
    "\n",
    "- Le graphique doit illustrer : <br> \n",
    "    - Sur l'axe des x : Les différentes espèces de pingouins (\"species\") contenues dans le fichier pingouins.csv (indice : vous pouvez utiliser directement le dataframe que vous avez créé dans l'exercice précédent). <br> \n",
    "    - Sur l'axe des y : La masse corporelle des pingouins (en kg). \n",
    "<br> \n",
    "\n",
    "- Le graphique doit contenir les titres suivants: <br>\n",
    "\n",
    "    - Un titre général en haut du graphique <br> \n",
    "    - Un titre pour l'axe des x <br> \n",
    "    - Un titre pour l'axe des y\n",
    "<br> \n",
    "\n",
    "- Vous devez modifier la taille des 3 titres pour qu'ils soient un peu plus gros que la taille définie par défaut.<br> \n",
    "\n",
    "- La figure doit être de taille (10, 6)<br> \n",
    "\n",
    "- Les couleurs des boxplots sont à votre discrétion, mais elles doivent être différentes d'une espèce à l'autre pour pouvoir bien les différencier visuellement. Vous pouvez utiliser une palette de la librairie seaborn pour afficher les boxplots avec des couleurs différentes. <br>  <br> \n",
    "\n",
    "<br> \n",
    "Un exemple de bonne solution pour ce graphique est disponible dans le README.md\n",
    "\n",
    "</div>\n"
   ]
  },
  {
   "cell_type": "code",
   "execution_count": null,
   "metadata": {},
   "outputs": [],
   "source": [
    "# TODO Faire un diagramme en barres pour afficher le nombre de pingouins par espèce"
   ]
  },
  {
   "cell_type": "markdown",
   "metadata": {},
   "source": [
    "<div class=\"alert alert-block alert-success\" style=\"font-size:16px;\"> <b> \n",
    "2.2 Pour cet exercice, nous utiliserons cette fois-ci uniquement la librairie matplotlib pour tracer deux graphiques de type nuage de points (\"scatter\"). <br>\n",
    "Les deux graphiques doivent se trouver dans la même figure : pour ce faire, vous devez utiliser la fonction <a href=\"https://matplotlib.org/stable/api/_as_gen/matplotlib.pyplot.subplots.html\" target=\"_blank\">plt.subplots</a>.<br> </b> \n",
    "\n",
    "Directives pour cette figure : \n",
    "\n",
    "- La figure doit contenir 1 ligne et 2 colonnes (donc les deux graphiques doivent se retrouver l'un à côté de l'autre, et non l'un par dessus l'autre). <br><br>\n",
    "- Le graphique de gauche doit contenir en axe des x la longueur du bec (en mm) et en axe des y, la masse corporelle (en kg).<br><br>\n",
    "- Le graphique de droite doit contenir en axe des x la longueur des nageoies (en mm) et en axe des y, la masse corporelle (en kg).<br><br>\n",
    "- Pour chacun des deux graphiques, les points correspondant aux pingouins femelles doivent être tracés avec une couleur différente de ceux des pingouins mâles. Les couleurs sont à votre discrétion, mais assurez-vous de choisir deux couleurs qui permettent un bon contraste entre les pingouins femelles et mâles. <br><br>\n",
    "- Vous devez également ajouter une légende sur chacun des deux graphiques, indiquant la couleur correspondant à chaque sexe des pingouins. Assurez-vous que la légende soit bien visible et placée de manière à ne pas masquer de points sur les graphiques.<br><br>\n",
    "- Vous devez ajouter des titres au-dessus des graphiques et sur les axes x et y. Pour rester consistant, vous devez utiliser la même taille de texte que vous avez utilisé pour votre boxplot de l'exercice 3. \n",
    "</div>"
   ]
  },
  {
   "cell_type": "code",
   "execution_count": null,
   "metadata": {},
   "outputs": [],
   "source": [
    "# TODO Tracer deux graphiques de type nuage de points"
   ]
  },
  {
   "cell_type": "markdown",
   "metadata": {},
   "source": [
    "<h1><font color='coral'> Partie 3 - Nuage de points 3D interactif avec la librairie Plotly </font></h1>"
   ]
  },
  {
   "cell_type": "markdown",
   "metadata": {},
   "source": [
    "<div class=\"alert alert-warning\" style=\"font-size:16px;\">\n",
    "<b> Pour cette troisième partie, nous utiliserons la librairie Plotly pour tracer un nuage de points 3D interactif.<br>\n",
    "\n",
    "Cette librairie est largement utilisée pour créer des graphiques interactifs. Elle permet de générer facilement des figures visuelles et de les rendre interactives, ce qui est très pratique pour l'exploration et la présentation de données. Elle offre également de nombreuses fonctionnalités pour personnaliser les graphiques et les intégrer dans des applications web ou des notebooks interactifs.<br>\n",
    "\n",
    "Nous allons utiliser Plotly Express, une composante de Plotly qui nous permettra de créer des graphiques interactifs en quelques lignes de code. Vous pouvez exécuter la cellule suivante pour importer Plotly Express.\n",
    "</div>"
   ]
  },
  {
   "cell_type": "markdown",
   "metadata": {},
   "source": [
    "Nous allons d'abord importer la librairie plotly avec la cellule suivante. "
   ]
  },
  {
   "cell_type": "code",
   "execution_count": null,
   "metadata": {},
   "outputs": [],
   "source": [
    "import plotly.express as px "
   ]
  },
  {
   "cell_type": "markdown",
   "metadata": {},
   "source": [
    "<div class=\"alert alert-warning\" style=\"font-size:16px;\">\n",
    "<b> \n",
    "3.1 Représentation graphique des résultats avec un nuage de points 3D interactif en utilisant la librairie Plotly.</b> \n",
    "\n",
    "Directives pour tracer le nuage de points interactif : \n",
    "\n",
    "- le graphique doit avoir comme données : \n",
    "    - sur l'axe des x : la longueur du bec, en mm\n",
    "    - sur l'axe des y : la longueur des nageoires, en mm\n",
    "    - sur l'axe des z : la masse corporelle, en kg\n",
    "\n",
    "- Comme l'exercice précédent, les mâles et les femelles doivent être représentés par des points de couleurs différentes, pour bien les distinguer.\n",
    "\n",
    "- La taille des marqueurs (les points sur le graphique), doit être plus petite que celle par défaut pour pouvoir bien différencier chaque point.\n",
    "\n",
    "- Vous devez ajouter un titre à chaque axe, ainsi qu'un titre principal. \n",
    "\n",
    "Notes : \n",
    "* Avec Plotly express, la légende va apparaître automatiquement : vous n'avez donc pas besoin de l'ajouter. \n",
    "* Vous pouvez garder les tailles des titres par défaut, ou les modifier si vous le souhaitez. L'important est d'avoir des titres qui sont de taille suffisante pour qu'ils soient bien visibles, sans être trop gros pour ne pas qu'ils se superposent.  </br>\n",
    "</div>\n"
   ]
  },
  {
   "cell_type": "code",
   "execution_count": null,
   "metadata": {},
   "outputs": [],
   "source": [
    "# TODO Tracer le nuage de points 3D avec Plotly express"
   ]
  },
  {
   "cell_type": "markdown",
   "metadata": {},
   "source": [
    "<h1><font color='cornflowerblue'> Bonus (+1 point) - Affichage d'une image d'un pingouin </font></h1>"
   ]
  },
  {
   "cell_type": "markdown",
   "metadata": {},
   "source": [
    "<div class=\"alert alert-success\" style=\"font-size:16px; color: darkblue; background-color: cornflowerblue;\">\n",
    "<b>Pour obtenir 1 point bonus, vous pouvez utiliser la librairie matplotlib pour afficher une image d'un pingouin. </b><br>\n",
    "<br>\n",
    "Directives pour cette question bonus : \n",
    "\n",
    "- Dans la cellule ci-dessous, vous devez écrire un code permettant d'afficher l'image \"photo_pingouin.jpg\" située dans le répertoire du TP, pour qu'elle soit affichée directement comme sortie dans ce Jupyter Notebook (c'est-à-dire, juste en dessous de votre cellule de code).\n",
    "\n",
    "- Vous n'avez pas besoin d'importer la librairie matplotlib, car elle a déjà été importée dans ce Jupyter Notebook. \n",
    "\n",
    "- Pour un affichage plus propre, assurez-vous d'enlever l'affichage des axes. \n",
    "</div>\n",
    "\n",
    "</div>"
   ]
  },
  {
   "cell_type": "code",
   "execution_count": null,
   "metadata": {},
   "outputs": [],
   "source": [
    "# TODO Écrire votre code ici pour afficher l'image \"photo_pingouin.jpg\""
   ]
  }
 ],
 "metadata": {
  "kernelspec": {
   "display_name": "Python 3",
   "language": "python",
   "name": "python3"
  },
  "language_info": {
   "codemirror_mode": {
    "name": "ipython",
    "version": 3
   },
   "file_extension": ".py",
   "mimetype": "text/x-python",
   "name": "python",
   "nbconvert_exporter": "python",
   "pygments_lexer": "ipython3",
   "version": "3.12.0"
  },
  "orig_nbformat": 4
 },
 "nbformat": 4,
 "nbformat_minor": 2
}
